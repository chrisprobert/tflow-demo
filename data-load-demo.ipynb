{
 "cells": [
  {
   "cell_type": "code",
   "execution_count": 4,
   "metadata": {
    "collapsed": true
   },
   "outputs": [],
   "source": [
    "import glob\n",
    "import Image\n",
    "import numpy as np\n",
    "\n",
    "import tensorflow as tf"
   ]
  },
  {
   "cell_type": "code",
   "execution_count": 5,
   "metadata": {
    "collapsed": false
   },
   "outputs": [],
   "source": [
    "def load_img(fpath):\n",
    "    return np.array(Image.open(fpath))\n",
    "\n",
    "jpg_files = glob.glob('*.jpg')\n",
    "\n",
    "image_h = 300\n",
    "image_w = 500\n",
    "image_c = 3"
   ]
  },
  {
   "cell_type": "code",
   "execution_count": 3,
   "metadata": {
    "collapsed": false
   },
   "outputs": [],
   "source": [
    "images = []\n",
    "for jpg_file in jpg_files:\n",
    "    try:\n",
    "        img = load_img(jpg_file)\n",
    "    except :\n",
    "        continue\n",
    "    if img.ndim != 3 :\n",
    "        continue\n",
    "    if img.shape[0] < image_h or img.shape[1] < image_w or img.shape[2] < image_c :\n",
    "        continue\n",
    "    images.append(img[:image_h, :image_w, :image_c])"
   ]
  },
  {
   "cell_type": "code",
   "execution_count": 4,
   "metadata": {
    "collapsed": false
   },
   "outputs": [],
   "source": [
    "# This is how we can create an example protocol buffer from a numpy array\n",
    "\n",
    "# Note that we can pass multiple arrays for an example - e.g. one could be features and one could be labels\n",
    "\n",
    "examples = []\n",
    "for img in images:\n",
    "    examples.append(tf.train.Example(features=tf.train.Features(feature={\n",
    "        'image': tf.train.Feature(\n",
    "            float_list=tf.train.FloatList(value=img.flatten().astype(float)))\n",
    "    })))"
   ]
  },
  {
   "cell_type": "code",
   "execution_count": 3,
   "metadata": {
    "collapsed": false
   },
   "outputs": [
    {
     "ename": "NameError",
     "evalue": "name 'examples' is not defined",
     "output_type": "error",
     "traceback": [
      "\u001b[0;31m---------------------------------------------------------------------------\u001b[0m",
      "\u001b[0;31mNameError\u001b[0m                                 Traceback (most recent call last)",
      "\u001b[0;32m<ipython-input-3-ef7810f856e5>\u001b[0m in \u001b[0;36m<module>\u001b[0;34m()\u001b[0m\n\u001b[1;32m      3\u001b[0m \u001b[0mshard_size\u001b[0m \u001b[0;34m=\u001b[0m \u001b[0;36m32\u001b[0m\u001b[0;34m\u001b[0m\u001b[0m\n\u001b[1;32m      4\u001b[0m \u001b[0;34m\u001b[0m\u001b[0m\n\u001b[0;32m----> 5\u001b[0;31m \u001b[0;32mfor\u001b[0m \u001b[0mi\u001b[0m \u001b[0;32min\u001b[0m \u001b[0mrange\u001b[0m\u001b[0;34m(\u001b[0m\u001b[0;36m0\u001b[0m\u001b[0;34m,\u001b[0m \u001b[0mlen\u001b[0m\u001b[0;34m(\u001b[0m\u001b[0mexamples\u001b[0m\u001b[0;34m)\u001b[0m\u001b[0;34m,\u001b[0m \u001b[0mshard_size\u001b[0m\u001b[0;34m)\u001b[0m\u001b[0;34m:\u001b[0m\u001b[0;34m\u001b[0m\u001b[0m\n\u001b[0m\u001b[1;32m      6\u001b[0m     \u001b[0mfname\u001b[0m \u001b[0;34m=\u001b[0m \u001b[0;34m'images-{}.tfrecords'\u001b[0m\u001b[0;34m.\u001b[0m\u001b[0mformat\u001b[0m\u001b[0;34m(\u001b[0m\u001b[0mi\u001b[0m\u001b[0;34m)\u001b[0m\u001b[0;34m\u001b[0m\u001b[0m\n\u001b[1;32m      7\u001b[0m     \u001b[0;32mwith\u001b[0m \u001b[0mtf\u001b[0m\u001b[0;34m.\u001b[0m\u001b[0mpython_io\u001b[0m\u001b[0;34m.\u001b[0m\u001b[0mTFRecordWriter\u001b[0m\u001b[0;34m(\u001b[0m\u001b[0mfname\u001b[0m\u001b[0;34m)\u001b[0m \u001b[0;32mas\u001b[0m \u001b[0mwriter\u001b[0m\u001b[0;34m:\u001b[0m\u001b[0;34m\u001b[0m\u001b[0m\n",
      "\u001b[0;31mNameError\u001b[0m: name 'examples' is not defined"
     ]
    }
   ],
   "source": [
    "# This is how we can serialize protocol buffers and write them to disk\n",
    "\n",
    "shard_size = 32\n",
    "\n",
    "for i in range(0, len(examples), shard_size):\n",
    "    fname = 'images-{}.tfrecords'.format(i)\n",
    "    with tf.python_io.TFRecordWriter(fname) as writer:\n",
    "        for example in examples[i:i+shard_size]:\n",
    "            serialized = example.SerializeToString()\n",
    "            writer.write(serialized)"
   ]
  },
  {
   "cell_type": "code",
   "execution_count": 6,
   "metadata": {
    "collapsed": false
   },
   "outputs": [],
   "source": [
    "# create a string tensor with a list of our tfrecord files\n",
    "\n",
    "fnames = tf.train.match_filenames_once('images-*.tfrecords')\n",
    "\n",
    "\n",
    "# create a queue of filenames so we can iterate through them\n",
    "\n",
    "fnames_queue = tf.train.string_input_producer(fnames, capacity=128)\n",
    "\n",
    "num_readers = 4\n",
    "enqueue_ops = []\n",
    "features = []\n",
    "\n",
    "image_shape = (image_h, image_w, image_c)\n",
    "\n",
    "d_queue = tf.FIFOQueue(1000, dtypes=[tf.float32], shapes=[tf.TensorShape(image_shape)])\n",
    "\n",
    "for _ in range(num_readers):\n",
    "    reader = tf.TFRecordReader()\n",
    "    _, serialized_example = reader.read(fnames_queue)\n",
    "    feature_defs = {'image': tf.FixedLenFeature(image_shape, tf.float32)}\n",
    "    feature = tf.parse_single_example(serialized_example, features=feature_defs)['image']\n",
    "    features.append(feature)\n",
    "    enqueue_op = d_queue.enqueue(feature)\n",
    "    enqueue_ops.append(enqueue_op)\n",
    "\n",
    "q_runner = tf.train.QueueRunner(d_queue, enqueue_ops=enqueue_ops)\n",
    "\n",
    "dequeued_examples = d_queue.dequeue_many(100)"
   ]
  },
  {
   "cell_type": "code",
   "execution_count": 7,
   "metadata": {
    "collapsed": false
   },
   "outputs": [],
   "source": [
    "sess = tf.InteractiveSession()"
   ]
  },
  {
   "cell_type": "code",
   "execution_count": 8,
   "metadata": {
    "collapsed": false
   },
   "outputs": [
    {
     "data": {
      "text/plain": [
       "[<Thread(Thread-4, started daemon 123145334603776)>]"
      ]
     },
     "execution_count": 8,
     "metadata": {},
     "output_type": "execute_result"
    }
   ],
   "source": [
    "sess.run(tf.initialize_all_variables())\n",
    "\n",
    "tf.train.start_queue_runners(sess)"
   ]
  },
  {
   "cell_type": "code",
   "execution_count": null,
   "metadata": {
    "collapsed": false
   },
   "outputs": [],
   "source": [
    "# Dequeue 100 examples into a batch:\n",
    "dequeued_examples.eval()"
   ]
  },
  {
   "cell_type": "code",
   "execution_count": 10,
   "metadata": {
    "collapsed": false
   },
   "outputs": [
    {
     "data": {
      "text/plain": [
       "1"
      ]
     },
     "execution_count": 10,
     "metadata": {},
     "output_type": "execute_result"
    }
   ],
   "source": []
  },
  {
   "cell_type": "code",
   "execution_count": null,
   "metadata": {
    "collapsed": true
   },
   "outputs": [],
   "source": [
    "562500"
   ]
  }
 ],
 "metadata": {
  "kernelspec": {
   "display_name": "Python 2",
   "language": "python",
   "name": "python2"
  },
  "language_info": {
   "codemirror_mode": {
    "name": "ipython",
    "version": 2
   },
   "file_extension": ".py",
   "mimetype": "text/x-python",
   "name": "python",
   "nbconvert_exporter": "python",
   "pygments_lexer": "ipython2",
   "version": "2.7.12"
  }
 },
 "nbformat": 4,
 "nbformat_minor": 1
}
